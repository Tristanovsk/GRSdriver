{
 "cells": [
  {
   "cell_type": "markdown",
   "id": "67295f1c-90c8-4e88-bc27-c4e304a2f19d",
   "metadata": {},
   "source": [
    "# Notebook showing a fast and efficient way to load Sentinel-2 L1C data into xarray"
   ]
  },
  {
   "cell_type": "code",
   "execution_count": 7,
   "id": "016e4a05-38e0-4d39-a697-6ea631d27536",
   "metadata": {},
   "outputs": [
    {
     "data": {
      "text/plain": [
       "'1.0.5'"
      ]
     },
     "execution_count": 7,
     "metadata": {},
     "output_type": "execute_result"
    }
   ],
   "source": [
    "import glob\n",
    "import os\n",
    "import numpy as np\n",
    "\n",
    "import pandas as pd\n",
    "import geopandas as gpd\n",
    "import xarray as xr\n",
    "\n",
    "import matplotlib.pyplot as plt\n",
    "import matplotlib as mpl\n",
    "import cartopy.crs as ccrs\n",
    "from matplotlib.colors import ListedColormap\n",
    "from s2driver import driver_S2_SAFE as S2\n",
    "\n",
    "import json\n",
    "import requests\n",
    "from datetime import datetime\n",
    "from multiprocessing import Pool\n",
    "import subprocess\n",
    "\n",
    "from eoreader.keywords import CLEAN_OPTICAL\n",
    "import GRSdriver\n",
    "\n",
    "opj = os.path.join\n",
    "\n",
    "GRSdriver.__version__"
   ]
  },
  {
   "cell_type": "markdown",
   "id": "d5432506-a844-488e-ace6-e1c889168039",
   "metadata": {},
   "source": [
    "### Download L1C images through S3 protocol, please visit https://documentation.dataspace.copernicus.eu/APIs/S3.html"
   ]
  },
  {
   "cell_type": "code",
   "execution_count": 12,
   "id": "de97d041-63c4-48a7-85a0-96a76eda4060",
   "metadata": {},
   "outputs": [
    {
     "data": {
      "text/plain": [
       "['s3cmd -c ~/.s3cfg sync s3://eodata/Sentinel-2/MSI/L1C/2018/12/01/S2A_MSIL1C_20181201T103401_N0207_R108_T31TFJ_20181201T110543.SAFE /data/satellite/Sentinel-2/L1C/31TFJ/2018/12/01',\n",
       " 's3cmd -c ~/.s3cfg sync s3://eodata/Sentinel-2/MSI/L1C/2018/12/04/S2A_MSIL1C_20181204T104411_N0207_R008_T31TFJ_20181204T111726.SAFE /data/satellite/Sentinel-2/L1C/31TFJ/2018/12/04']"
      ]
     },
     "execution_count": 12,
     "metadata": {},
     "output_type": "execute_result"
    }
   ],
   "source": [
    "odir = '/data/satellite/Sentinel-2/L1C/'\n",
    "date_start='2021-01-01T00:00:00.000Z' \n",
    "date_end ='2021-12-31T00:00:00.000Z'\n",
    "tiles=['17MQT']#'30PYT']\n",
    "date_start='2018-01-01T00:00:00.000Z' \n",
    "date_end ='2018-12-31T00:00:00.000Z'\n",
    "tiles=['31TFJ']\n",
    "cloud_cover_max = 60      \n",
    "\n",
    "\n",
    "cmd = []\n",
    "for tile in tiles:\n",
    "    json = requests.get(\"https://catalogue.dataspace.copernicus.eu/odata/v1/Products?$filter=Collection/Name eq 'SENTINEL-2' \"+\n",
    "                    \" and Attributes/OData.CSC.DoubleAttribute/any(att:att/Name eq 'cloudCover' and att/OData.CSC.DoubleAttribute/Value lt {:.2f})\".format(cloud_cover_max)+\n",
    "                    \" and Attributes/OData.CSC.StringAttribute/any(att:att/Name eq 'productType' and att/OData.CSC.StringAttribute/Value eq 'S2MSI1C')\"+\n",
    "                    \" and contains(Name,'\"+tile+\"') \"+\n",
    "                    # next line is to keep latest baseline only (comment to get baseline < 4)\n",
    "                    \" and (contains(Name,'_N04') or contains(Name,'_N05')) \"+\n",
    "                    \" and ContentDate/Start gt \"+date_start+\" and ContentDate/Start lt \"+date_end+\"&$orderby=ContentDate/Start&$top=1000\").json()\n",
    "    df = pd.DataFrame.from_dict(json['value'])\n",
    "    \n",
    "    \n",
    "    \n",
    "    for irow,info in df.iterrows():\n",
    "        #print(info['Name'])\n",
    "        date=datetime.strptime(info['Name'].split('_')[2],'%Y%m%dT%H%M%S')\n",
    "        date.year\n",
    "        odir_ = opj(odir,tile,str(date.year),str(date.month).zfill(2),str(date.day).zfill(2))\n",
    "        cmd.append('s3cmd -c ~/.s3cfg sync s3:/'+info['S3Path']+' '+odir_)\n",
    "cmd"
   ]
  },
  {
   "cell_type": "code",
   "execution_count": 13,
   "id": "53ba0f04-f5ff-48e1-b69b-88c96d8a385b",
   "metadata": {},
   "outputs": [
    {
     "name": "stdout",
     "output_type": "stream",
     "text": [
      "s3cmd -c ~/.s3cfg sync s3://eodata/Sentinel-2/MSI/L1C/2018/12/04/S2A_MSIL1C_20181204T104411_N0207_R008_T31TFJ_20181204T111726.SAFE /data/satellite/Sentinel-2/L1C/31TFJ/2018/12/04s3cmd -c ~/.s3cfg sync s3://eodata/Sentinel-2/MSI/L1C/2018/12/01/S2A_MSIL1C_20181201T103401_N0207_R108_T31TFJ_20181201T110543.SAFE /data/satellite/Sentinel-2/L1C/31TFJ/2018/12/01\n",
      "\n"
     ]
    }
   ],
   "source": [
    "\n",
    "def call(command):\n",
    "    print(command)\n",
    "    pipeline_out = subprocess.call(command, stdout=subprocess.DEVNULL, stderr=subprocess.STDOUT, shell=True)\n",
    "    return\n",
    "\n",
    "ncore=4\n",
    "with Pool(processes=ncore) as pool:\n",
    "    pool.map(call, cmd)\n",
    "    pool.close"
   ]
  },
  {
   "cell_type": "code",
   "execution_count": null,
   "id": "a16cd4c9-d653-4af7-a066-56ca27a7c2de",
   "metadata": {},
   "outputs": [],
   "source": []
  },
  {
   "cell_type": "code",
   "execution_count": 16,
   "id": "eb64436c-49d5-4476-bc38-1fb1cfe3f3d8",
   "metadata": {},
   "outputs": [],
   "source": [
    "import requests\n",
    "\n",
    "url = f\"https://zipper.dataspace.copernicus.eu/odata/v1/Products(\"+df.Id[0]+\")/$value\"\n",
    "\n",
    "headers = {\"Authorization\": f\"Bearer {access_token}\"}\n",
    "\n",
    "session = requests.Session()\n",
    "session.headers.update(headers)\n",
    "response = session.get(url, headers=headers, stream=True)\n",
    "\n",
    "with open(\"product.zip\", \"wb\") as file:\n",
    "    for chunk in response.iter_content(chunk_size=8192):\n",
    "        if chunk:\n",
    "            file.write(chunk)"
   ]
  },
  {
   "cell_type": "code",
   "execution_count": null,
   "id": "97aa69ce-7446-48dd-aab4-4f8108e415c2",
   "metadata": {},
   "outputs": [],
   "source": []
  }
 ],
 "metadata": {
  "kernelspec": {
   "display_name": "Python 3 (ipykernel)",
   "language": "python",
   "name": "python3"
  },
  "language_info": {
   "codemirror_mode": {
    "name": "ipython",
    "version": 3
   },
   "file_extension": ".py",
   "mimetype": "text/x-python",
   "name": "python",
   "nbconvert_exporter": "python",
   "pygments_lexer": "ipython3",
   "version": "3.9.15"
  },
  "widgets": {
   "application/vnd.jupyter.widget-state+json": {
    "state": {},
    "version_major": 2,
    "version_minor": 0
   }
  }
 },
 "nbformat": 4,
 "nbformat_minor": 5
}
